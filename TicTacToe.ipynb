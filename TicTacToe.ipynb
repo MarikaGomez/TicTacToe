{
 "cells": [
  {
   "cell_type": "code",
   "execution_count": 1,
   "source": [
    "def player_input():\r\n",
    "    marker=''\r\n",
    "    \r\n",
    "    while marker!='X' and marker!='O':\r\n",
    "        marker=input('Player 1, choose X or O: ').upper()\r\n",
    "    \r\n",
    "    player1=marker\r\n",
    "    if player1=='X':\r\n",
    "        player2='O'\r\n",
    "    else:\r\n",
    "        player2='X'\r\n",
    "    \r\n",
    "    return(player1,player2)"
   ],
   "outputs": [],
   "metadata": {}
  },
  {
   "cell_type": "code",
   "execution_count": 5,
   "source": [
    "#j'importe la fonction native clear_output pour obtenir seulement la dernière version de ma table de jeu\r\n",
    "from IPython.display import clear_output\r\n",
    "\r\n",
    "def display_board(board):\r\n",
    "    clear_output()\r\n",
    "    print(board[7]+'|'+board[8]+'|'+board[9])\r\n",
    "    print(board[4]+'|'+board[5]+'|'+board[6])\r\n",
    "    print(board[1]+'|'+board[2]+'|'+board[3])"
   ],
   "outputs": [],
   "metadata": {}
  },
  {
   "cell_type": "code",
   "execution_count": 7,
   "source": [
    "#la fonction place le marqueur à une position donnée sur la table de jeu\r\n",
    "def place_marker(board,marker,position):\r\n",
    "    board[position]=marker\r\n"
   ],
   "outputs": [],
   "metadata": {}
  },
  {
   "cell_type": "code",
   "execution_count": 10,
   "source": [
    "def check_winner(board,marker):\r\n",
    "    #un gagnant ?\r\n",
    "    return(\r\n",
    "    #combinaison gagnante dans une ligne ?\r\n",
    "    (board[7]==board[8]==board[9]==marker) or\r\n",
    "    (board[4]==board[5]==board[6]==marker) or\r\n",
    "    (board[1]==board[2]==board[3]==marker) or    \r\n",
    "    #combinaison gagnante dans une colonne ?\r\n",
    "    (board[7]==board[4]==board[1]==marker) or\r\n",
    "    (board[8]==board[5]==board[2]==marker) or\r\n",
    "    (board[9]==board[6]==board[3]==marker) or\r\n",
    "    #combinaison gagnante en diagonale ?\r\n",
    "    (board[7]==board[5]==board[3]==marker) or\r\n",
    "    (board[1]==board[5]==board[9]==marker))"
   ],
   "outputs": [],
   "metadata": {}
  },
  {
   "cell_type": "code",
   "execution_count": 13,
   "source": [
    "#choisir le premier joueur\r\n",
    "import random\r\n",
    "def choose_first_player():\r\n",
    "    flip=random.randint(0,1)\r\n",
    "    if flip==0:\r\n",
    "        return 'Player 1'\r\n",
    "    else:\r\n",
    "        return 'Player 2'"
   ],
   "outputs": [],
   "metadata": {}
  },
  {
   "cell_type": "code",
   "execution_count": 14,
   "source": [
    "#je vérifie que l'action est possible et que la place n'est pas déjà occupée\r\n",
    "def isValidAction(board,position):\r\n",
    "    print('Choose another position!')\r\n",
    "    return board[position]=='-'"
   ],
   "outputs": [],
   "metadata": {}
  },
  {
   "cell_type": "code",
   "execution_count": 15,
   "source": [
    "def full_board():\r\n",
    "    for i in range(1,10):\r\n",
    "        if isValidAction(board,i):\r\n",
    "            #si l'action est valide alors la table n'est pas pleine donc on retourne false\r\n",
    "            return False\r\n",
    "    return True"
   ],
   "outputs": [],
   "metadata": {}
  },
  {
   "cell_type": "code",
   "execution_count": 16,
   "source": [
    "def player_choice(board):\r\n",
    "    position=0\r\n",
    "    while position not in range(1,10) or not isValidAction(board,position):\r\n",
    "        position=int(input('Choose a position (1-9): '))\r\n",
    "    return position"
   ],
   "outputs": [],
   "metadata": {}
  },
  {
   "cell_type": "code",
   "execution_count": 17,
   "source": [
    "def start_new_game():\r\n",
    "    choice='Choose'\r\n",
    "    while choice!='Yes' and choice!='No':\r\n",
    "        choice=input('Do you want to play again? Enter Yes or No: ').capitalize()\r\n",
    "    return choice=='Yes'"
   ],
   "outputs": [],
   "metadata": {}
  },
  {
   "cell_type": "code",
   "execution_count": null,
   "source": [
    "#Boucle qui permet de faire tourner le jeu\r\n",
    "print('TIC TAC TOE')\r\n",
    "while True:\r\n",
    "    #Play\r\n",
    "    board=['-']*10\r\n",
    "    player1_marker,player2_marker=player_input()\r\n",
    "    \r\n",
    "    turn=choose_first_player()\r\n",
    "    print(turn+' GO FIRST!')\r\n",
    "    \r\n",
    "    play_game='ready'\r\n",
    "    while play_game!='Yes' and play_game!='No':\r\n",
    "        play_game=input('Ready to play? Yes or No: ').capitalize()\r\n",
    "        if play_game=='Yes':\r\n",
    "            game_on=True\r\n",
    "        else:\r\n",
    "            game_on=False\r\n",
    "    \r\n",
    "    while game_on:\r\n",
    "        #Tour du 1er joueur\r\n",
    "        if turn=='Player 1':\r\n",
    "            display_board(board)\r\n",
    "            #Choix position\r\n",
    "            position=player_choice(board)\r\n",
    "            #placement du marqueur\r\n",
    "            place_marker(board,player1_marker,position)\r\n",
    "            #winner?\r\n",
    "            if check_winner(board,player1_marker):\r\n",
    "                display_board(board)\r\n",
    "                print('PLAYER 1 WON!')\r\n",
    "                game_on=False\r\n",
    "            #tie?\r\n",
    "            else:\r\n",
    "                if full_board():\r\n",
    "                    display_board(board)\r\n",
    "                    print('WE HAVE A TIE!')\r\n",
    "                    game_on=False\r\n",
    "                #next player\r\n",
    "                else:\r\n",
    "                    turn='Player 2'\r\n",
    "           \r\n",
    "        else:\r\n",
    "            #Tour du 2ème joueur\r\n",
    "            display_board(board)\r\n",
    "            #Choix position\r\n",
    "            position=player_choice(board)\r\n",
    "            #placement du marqueur\r\n",
    "            place_marker(board,player2_marker,position)\r\n",
    "            #winner?\r\n",
    "            if check_winner(board,player2_marker):\r\n",
    "                display_board(board)\r\n",
    "                print('PLAYER 2 WON!')\r\n",
    "                game_on=False\r\n",
    "            #tie?\r\n",
    "            else:\r\n",
    "                if full_board():\r\n",
    "                    display_board(board)\r\n",
    "                    print('WE HAVE A TIE!')\r\n",
    "                    game_on=False\r\n",
    "                #next player\r\n",
    "                else:\r\n",
    "                    turn='Player 1'\r\n",
    "                    \r\n",
    "    #Break dans la boucle ('Do you want to play again ? 'No')\r\n",
    "    if not start_new_game():\r\n",
    "        break"
   ],
   "outputs": [],
   "metadata": {}
  }
 ],
 "metadata": {
  "kernelspec": {
   "name": "python3",
   "display_name": "Python 3.8.8 64-bit ('base': conda)"
  },
  "language_info": {
   "codemirror_mode": {
    "name": "ipython",
    "version": 3
   },
   "file_extension": ".py",
   "mimetype": "text/x-python",
   "name": "python",
   "nbconvert_exporter": "python",
   "pygments_lexer": "ipython3",
   "version": "3.8.8"
  },
  "interpreter": {
   "hash": "edddfc0f7e37ef110f568af45cee2b08e4a5774634baf1186a2f4bf98f1f2a1e"
  }
 },
 "nbformat": 4,
 "nbformat_minor": 5
}